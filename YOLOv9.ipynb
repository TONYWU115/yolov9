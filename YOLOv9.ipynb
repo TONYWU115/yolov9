{
 "cells": [
  {
   "cell_type": "code",
   "execution_count": 1,
   "id": "e6e9965c",
   "metadata": {},
   "outputs": [
    {
     "name": "stdout",
     "output_type": "stream",
     "text": [
      "Requirement already satisfied: gitpython in c:\\users\\tony\\appdata\\local\\programs\\python\\python310\\lib\\site-packages (from -r requirements.txt (line 5)) (3.1.45)Note: you may need to restart the kernel to use updated packages.\n",
      "\n",
      "Requirement already satisfied: ipython in c:\\users\\tony\\appdata\\roaming\\python\\python310\\site-packages (from -r requirements.txt (line 6)) (8.37.0)\n",
      "Requirement already satisfied: matplotlib>=3.2.2 in c:\\users\\tony\\appdata\\local\\programs\\python\\python310\\lib\\site-packages (from -r requirements.txt (line 7)) (3.10.5)\n",
      "Requirement already satisfied: numpy>=1.18.5 in c:\\users\\tony\\appdata\\local\\programs\\python\\python310\\lib\\site-packages (from -r requirements.txt (line 8)) (2.1.2)\n",
      "Requirement already satisfied: opencv-python>=4.1.1 in c:\\users\\tony\\appdata\\local\\programs\\python\\python310\\lib\\site-packages (from -r requirements.txt (line 9)) (4.12.0.88)\n",
      "Requirement already satisfied: Pillow>=7.1.2 in c:\\users\\tony\\appdata\\local\\programs\\python\\python310\\lib\\site-packages (from -r requirements.txt (line 10)) (11.0.0)\n",
      "Requirement already satisfied: psutil in c:\\users\\tony\\appdata\\local\\programs\\python\\python310\\lib\\site-packages (from -r requirements.txt (line 11)) (7.0.0)\n",
      "Requirement already satisfied: PyYAML>=5.3.1 in c:\\users\\tony\\appdata\\local\\programs\\python\\python310\\lib\\site-packages (from -r requirements.txt (line 12)) (6.0.2)\n",
      "Requirement already satisfied: requests>=2.23.0 in c:\\users\\tony\\appdata\\local\\programs\\python\\python310\\lib\\site-packages (from -r requirements.txt (line 13)) (2.32.4)\n",
      "Requirement already satisfied: scipy>=1.4.1 in c:\\users\\tony\\appdata\\local\\programs\\python\\python310\\lib\\site-packages (from -r requirements.txt (line 14)) (1.15.3)\n",
      "Requirement already satisfied: thop>=0.1.1 in c:\\users\\tony\\appdata\\local\\programs\\python\\python310\\lib\\site-packages (from -r requirements.txt (line 15)) (0.1.1.post2209072238)\n",
      "Requirement already satisfied: torch>=1.7.0 in c:\\users\\tony\\appdata\\local\\programs\\python\\python310\\lib\\site-packages (from -r requirements.txt (line 16)) (2.8.0+cu129)\n",
      "Requirement already satisfied: torchvision>=0.8.1 in c:\\users\\tony\\appdata\\local\\programs\\python\\python310\\lib\\site-packages (from -r requirements.txt (line 17)) (0.23.0+cu129)\n",
      "Requirement already satisfied: tqdm>=4.64.0 in c:\\users\\tony\\appdata\\local\\programs\\python\\python310\\lib\\site-packages (from -r requirements.txt (line 18)) (4.67.1)\n",
      "Requirement already satisfied: tensorboard>=2.4.1 in c:\\users\\tony\\appdata\\local\\programs\\python\\python310\\lib\\site-packages (from -r requirements.txt (line 22)) (2.20.0)\n",
      "Requirement already satisfied: pandas>=1.1.4 in c:\\users\\tony\\appdata\\local\\programs\\python\\python310\\lib\\site-packages (from -r requirements.txt (line 27)) (2.3.1)\n",
      "Requirement already satisfied: seaborn>=0.11.0 in c:\\users\\tony\\appdata\\local\\programs\\python\\python310\\lib\\site-packages (from -r requirements.txt (line 28)) (0.13.2)\n",
      "Requirement already satisfied: albumentations>=1.0.3 in c:\\users\\tony\\appdata\\local\\programs\\python\\python310\\lib\\site-packages (from -r requirements.txt (line 46)) (2.0.8)\n",
      "Requirement already satisfied: pycocotools>=2.0 in c:\\users\\tony\\appdata\\local\\programs\\python\\python310\\lib\\site-packages (from -r requirements.txt (line 47)) (2.0.10)\n",
      "Requirement already satisfied: gitdb<5,>=4.0.1 in c:\\users\\tony\\appdata\\local\\programs\\python\\python310\\lib\\site-packages (from gitpython->-r requirements.txt (line 5)) (4.0.12)\n",
      "Requirement already satisfied: smmap<6,>=3.0.1 in c:\\users\\tony\\appdata\\local\\programs\\python\\python310\\lib\\site-packages (from gitdb<5,>=4.0.1->gitpython->-r requirements.txt (line 5)) (5.0.2)\n",
      "Requirement already satisfied: colorama in c:\\users\\tony\\appdata\\local\\programs\\python\\python310\\lib\\site-packages (from ipython->-r requirements.txt (line 6)) (0.4.6)\n",
      "Requirement already satisfied: decorator in c:\\users\\tony\\appdata\\roaming\\python\\python310\\site-packages (from ipython->-r requirements.txt (line 6)) (5.2.1)\n",
      "Requirement already satisfied: exceptiongroup in c:\\users\\tony\\appdata\\roaming\\python\\python310\\site-packages (from ipython->-r requirements.txt (line 6)) (1.3.0)\n",
      "Requirement already satisfied: jedi>=0.16 in c:\\users\\tony\\appdata\\roaming\\python\\python310\\site-packages (from ipython->-r requirements.txt (line 6)) (0.19.2)\n",
      "Requirement already satisfied: matplotlib-inline in c:\\users\\tony\\appdata\\roaming\\python\\python310\\site-packages (from ipython->-r requirements.txt (line 6)) (0.1.7)\n",
      "Requirement already satisfied: prompt_toolkit<3.1.0,>=3.0.41 in c:\\users\\tony\\appdata\\roaming\\python\\python310\\site-packages (from ipython->-r requirements.txt (line 6)) (3.0.51)\n",
      "Requirement already satisfied: pygments>=2.4.0 in c:\\users\\tony\\appdata\\roaming\\python\\python310\\site-packages (from ipython->-r requirements.txt (line 6)) (2.19.2)\n",
      "Requirement already satisfied: stack_data in c:\\users\\tony\\appdata\\roaming\\python\\python310\\site-packages (from ipython->-r requirements.txt (line 6)) (0.6.3)\n",
      "Requirement already satisfied: traitlets>=5.13.0 in c:\\users\\tony\\appdata\\roaming\\python\\python310\\site-packages (from ipython->-r requirements.txt (line 6)) (5.14.3)\n",
      "Requirement already satisfied: typing_extensions>=4.6 in c:\\users\\tony\\appdata\\local\\programs\\python\\python310\\lib\\site-packages (from ipython->-r requirements.txt (line 6)) (4.12.2)\n",
      "Requirement already satisfied: wcwidth in c:\\users\\tony\\appdata\\roaming\\python\\python310\\site-packages (from prompt_toolkit<3.1.0,>=3.0.41->ipython->-r requirements.txt (line 6)) (0.2.13)\n",
      "Requirement already satisfied: contourpy>=1.0.1 in c:\\users\\tony\\appdata\\local\\programs\\python\\python310\\lib\\site-packages (from matplotlib>=3.2.2->-r requirements.txt (line 7)) (1.3.2)\n",
      "Requirement already satisfied: cycler>=0.10 in c:\\users\\tony\\appdata\\local\\programs\\python\\python310\\lib\\site-packages (from matplotlib>=3.2.2->-r requirements.txt (line 7)) (0.12.1)\n",
      "Requirement already satisfied: fonttools>=4.22.0 in c:\\users\\tony\\appdata\\local\\programs\\python\\python310\\lib\\site-packages (from matplotlib>=3.2.2->-r requirements.txt (line 7)) (4.59.0)\n",
      "Requirement already satisfied: kiwisolver>=1.3.1 in c:\\users\\tony\\appdata\\local\\programs\\python\\python310\\lib\\site-packages (from matplotlib>=3.2.2->-r requirements.txt (line 7)) (1.4.8)\n",
      "Requirement already satisfied: packaging>=20.0 in c:\\users\\tony\\appdata\\local\\programs\\python\\python310\\lib\\site-packages (from matplotlib>=3.2.2->-r requirements.txt (line 7)) (25.0)\n",
      "Requirement already satisfied: pyparsing>=2.3.1 in c:\\users\\tony\\appdata\\local\\programs\\python\\python310\\lib\\site-packages (from matplotlib>=3.2.2->-r requirements.txt (line 7)) (3.2.3)\n",
      "Requirement already satisfied: python-dateutil>=2.7 in c:\\users\\tony\\appdata\\local\\programs\\python\\python310\\lib\\site-packages (from matplotlib>=3.2.2->-r requirements.txt (line 7)) (2.9.0.post0)\n",
      "Requirement already satisfied: charset_normalizer<4,>=2 in c:\\users\\tony\\appdata\\local\\programs\\python\\python310\\lib\\site-packages (from requests>=2.23.0->-r requirements.txt (line 13)) (3.4.3)\n",
      "Requirement already satisfied: idna<4,>=2.5 in c:\\users\\tony\\appdata\\local\\programs\\python\\python310\\lib\\site-packages (from requests>=2.23.0->-r requirements.txt (line 13)) (3.10)\n",
      "Requirement already satisfied: urllib3<3,>=1.21.1 in c:\\users\\tony\\appdata\\local\\programs\\python\\python310\\lib\\site-packages (from requests>=2.23.0->-r requirements.txt (line 13)) (2.5.0)\n",
      "Requirement already satisfied: certifi>=2017.4.17 in c:\\users\\tony\\appdata\\local\\programs\\python\\python310\\lib\\site-packages (from requests>=2.23.0->-r requirements.txt (line 13)) (2025.8.3)\n",
      "Requirement already satisfied: filelock in c:\\users\\tony\\appdata\\local\\programs\\python\\python310\\lib\\site-packages (from torch>=1.7.0->-r requirements.txt (line 16)) (3.13.1)\n",
      "Requirement already satisfied: sympy>=1.13.3 in c:\\users\\tony\\appdata\\local\\programs\\python\\python310\\lib\\site-packages (from torch>=1.7.0->-r requirements.txt (line 16)) (1.13.3)\n",
      "Requirement already satisfied: networkx in c:\\users\\tony\\appdata\\local\\programs\\python\\python310\\lib\\site-packages (from torch>=1.7.0->-r requirements.txt (line 16)) (3.3)\n",
      "Requirement already satisfied: jinja2 in c:\\users\\tony\\appdata\\local\\programs\\python\\python310\\lib\\site-packages (from torch>=1.7.0->-r requirements.txt (line 16)) (3.1.4)\n",
      "Requirement already satisfied: fsspec in c:\\users\\tony\\appdata\\local\\programs\\python\\python310\\lib\\site-packages (from torch>=1.7.0->-r requirements.txt (line 16)) (2024.6.1)\n",
      "Requirement already satisfied: absl-py>=0.4 in c:\\users\\tony\\appdata\\local\\programs\\python\\python310\\lib\\site-packages (from tensorboard>=2.4.1->-r requirements.txt (line 22)) (2.3.1)\n",
      "Requirement already satisfied: grpcio>=1.48.2 in c:\\users\\tony\\appdata\\local\\programs\\python\\python310\\lib\\site-packages (from tensorboard>=2.4.1->-r requirements.txt (line 22)) (1.74.0)\n",
      "Requirement already satisfied: markdown>=2.6.8 in c:\\users\\tony\\appdata\\local\\programs\\python\\python310\\lib\\site-packages (from tensorboard>=2.4.1->-r requirements.txt (line 22)) (3.8.2)\n",
      "Requirement already satisfied: protobuf!=4.24.0,>=3.19.6 in c:\\users\\tony\\appdata\\local\\programs\\python\\python310\\lib\\site-packages (from tensorboard>=2.4.1->-r requirements.txt (line 22)) (6.31.1)\n",
      "Requirement already satisfied: setuptools>=41.0.0 in c:\\users\\tony\\appdata\\local\\programs\\python\\python310\\lib\\site-packages (from tensorboard>=2.4.1->-r requirements.txt (line 22)) (65.5.0)\n",
      "Requirement already satisfied: tensorboard-data-server<0.8.0,>=0.7.0 in c:\\users\\tony\\appdata\\local\\programs\\python\\python310\\lib\\site-packages (from tensorboard>=2.4.1->-r requirements.txt (line 22)) (0.7.2)\n",
      "Requirement already satisfied: werkzeug>=1.0.1 in c:\\users\\tony\\appdata\\local\\programs\\python\\python310\\lib\\site-packages (from tensorboard>=2.4.1->-r requirements.txt (line 22)) (3.1.3)\n",
      "Requirement already satisfied: pytz>=2020.1 in c:\\users\\tony\\appdata\\local\\programs\\python\\python310\\lib\\site-packages (from pandas>=1.1.4->-r requirements.txt (line 27)) (2025.2)\n",
      "Requirement already satisfied: tzdata>=2022.7 in c:\\users\\tony\\appdata\\local\\programs\\python\\python310\\lib\\site-packages (from pandas>=1.1.4->-r requirements.txt (line 27)) (2025.2)\n",
      "Requirement already satisfied: pydantic>=2.9.2 in c:\\users\\tony\\appdata\\local\\programs\\python\\python310\\lib\\site-packages (from albumentations>=1.0.3->-r requirements.txt (line 46)) (2.11.7)\n",
      "Requirement already satisfied: albucore==0.0.24 in c:\\users\\tony\\appdata\\local\\programs\\python\\python310\\lib\\site-packages (from albumentations>=1.0.3->-r requirements.txt (line 46)) (0.0.24)\n",
      "Requirement already satisfied: opencv-python-headless>=4.9.0.80 in c:\\users\\tony\\appdata\\local\\programs\\python\\python310\\lib\\site-packages (from albumentations>=1.0.3->-r requirements.txt (line 46)) (4.12.0.88)\n",
      "Requirement already satisfied: stringzilla>=3.10.4 in c:\\users\\tony\\appdata\\local\\programs\\python\\python310\\lib\\site-packages (from albucore==0.0.24->albumentations>=1.0.3->-r requirements.txt (line 46)) (3.12.6)\n",
      "Requirement already satisfied: simsimd>=5.9.2 in c:\\users\\tony\\appdata\\local\\programs\\python\\python310\\lib\\site-packages (from albucore==0.0.24->albumentations>=1.0.3->-r requirements.txt (line 46)) (6.5.0)\n",
      "Requirement already satisfied: parso<0.9.0,>=0.8.4 in c:\\users\\tony\\appdata\\roaming\\python\\python310\\site-packages (from jedi>=0.16->ipython->-r requirements.txt (line 6)) (0.8.4)\n",
      "Requirement already satisfied: annotated-types>=0.6.0 in c:\\users\\tony\\appdata\\local\\programs\\python\\python310\\lib\\site-packages (from pydantic>=2.9.2->albumentations>=1.0.3->-r requirements.txt (line 46)) (0.7.0)\n",
      "Requirement already satisfied: pydantic-core==2.33.2 in c:\\users\\tony\\appdata\\local\\programs\\python\\python310\\lib\\site-packages (from pydantic>=2.9.2->albumentations>=1.0.3->-r requirements.txt (line 46)) (2.33.2)\n",
      "Requirement already satisfied: typing-inspection>=0.4.0 in c:\\users\\tony\\appdata\\local\\programs\\python\\python310\\lib\\site-packages (from pydantic>=2.9.2->albumentations>=1.0.3->-r requirements.txt (line 46)) (0.4.1)\n",
      "Requirement already satisfied: six>=1.5 in c:\\users\\tony\\appdata\\local\\programs\\python\\python310\\lib\\site-packages (from python-dateutil>=2.7->matplotlib>=3.2.2->-r requirements.txt (line 7)) (1.17.0)\n",
      "Requirement already satisfied: mpmath<1.4,>=1.1.0 in c:\\users\\tony\\appdata\\local\\programs\\python\\python310\\lib\\site-packages (from sympy>=1.13.3->torch>=1.7.0->-r requirements.txt (line 16)) (1.3.0)\n",
      "Requirement already satisfied: MarkupSafe>=2.1.1 in c:\\users\\tony\\appdata\\local\\programs\\python\\python310\\lib\\site-packages (from werkzeug>=1.0.1->tensorboard>=2.4.1->-r requirements.txt (line 22)) (2.1.5)\n",
      "Requirement already satisfied: executing>=1.2.0 in c:\\users\\tony\\appdata\\roaming\\python\\python310\\site-packages (from stack_data->ipython->-r requirements.txt (line 6)) (2.2.0)\n",
      "Requirement already satisfied: asttokens>=2.1.0 in c:\\users\\tony\\appdata\\roaming\\python\\python310\\site-packages (from stack_data->ipython->-r requirements.txt (line 6)) (3.0.0)\n",
      "Requirement already satisfied: pure-eval in c:\\users\\tony\\appdata\\roaming\\python\\python310\\site-packages (from stack_data->ipython->-r requirements.txt (line 6)) (0.2.3)\n"
     ]
    }
   ],
   "source": [
    "%pip install -r requirements.txt"
   ]
  },
  {
   "cell_type": "code",
   "execution_count": 2,
   "id": "1994ed6b",
   "metadata": {},
   "outputs": [],
   "source": [
    "import zipfile, pathlib\n",
    "root = pathlib.Path('.')\n",
    "(zipfile.ZipFile('dataset.zip').extractall(root / 'data'))"
   ]
  },
  {
   "cell_type": "code",
   "execution_count": 4,
   "id": "1182505b",
   "metadata": {},
   "outputs": [],
   "source": [
    "from pathlib import Path\n",
    "data_yaml = Path('data/dataset/datasets.yaml')\n",
    "assert data_yaml.exists()"
   ]
  },
  {
   "cell_type": "code",
   "execution_count": 5,
   "id": "9a09815c",
   "metadata": {},
   "outputs": [],
   "source": [
    "import os, urllib.request\n",
    "os.makedirs('weights', exist_ok=True)\n",
    "if not Path('weights/yolov9-c.pt').exists():\n",
    "    urllib.request.urlretrieve(\n",
    "        \"https://github.com/WongKinYiu/yolov9/releases/download/v0.1/yolov9-c.pt\",\n",
    "        \"weights/yolov9-c.pt\"\n",
    "    )"
   ]
  },
  {
   "cell_type": "code",
   "execution_count": 10,
   "id": "ea11601e",
   "metadata": {},
   "outputs": [
    {
     "name": "stdout",
     "output_type": "stream",
     "text": [
      "^C\n"
     ]
    }
   ],
   "source": [
    "!python train_dual.py \\\n",
    "--batch 4 --epochs 20 --img 640 --device cpu --min-items 0 --close-mosaic 15 \\\n",
    "--data data/dataset/datasets.yaml \\\n",
    "--weights weights/yolov9-c.pt \\\n",
    "--cfg models/detect/yolov9-c.yaml \\\n",
    "--hyp hyp.scratch-high.yaml"
   ]
  }
 ],
 "metadata": {
  "kernelspec": {
   "display_name": "Python 3",
   "language": "python",
   "name": "python3"
  },
  "language_info": {
   "codemirror_mode": {
    "name": "ipython",
    "version": 3
   },
   "file_extension": ".py",
   "mimetype": "text/x-python",
   "name": "python",
   "nbconvert_exporter": "python",
   "pygments_lexer": "ipython3",
   "version": "3.10.11"
  }
 },
 "nbformat": 4,
 "nbformat_minor": 5
}
